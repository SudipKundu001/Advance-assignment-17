{
 "cells": [
  {
   "cell_type": "markdown",
   "id": "4230973f",
   "metadata": {},
   "source": [
    "## python advance assignment_17"
   ]
  },
  {
   "cell_type": "markdown",
   "id": "8ecb5f73",
   "metadata": {},
   "source": [
    "**Q1. Explain the difference between greedy and non-greedy syntax with visual terms in as few words\n",
    "as possible. What is the bare minimum effort required to transform a greedy pattern into a non-greedy\n",
    "one? What characters or characters can you introduce or change?**\n",
    "\n",
    "Ans:-The difference between the greedy and the non-greedy match is the following: The greedy match will try to match as many \n",
    "\n",
    "repetitions of the quantified pattern as possible. The non-greedy match will try to match as few repetitions of the quantified \n",
    "\n",
    "pattern as possible.\n",
    "\n",
    "To make the quantifier non-greedy you simply follow it with a '?' the first 3 characters and then the following 'ab' is \n",
    "\n",
    "matched. greedy by appending a '?' symbol to them: *?, +?, ??, {n,m}?, and {n,}"
   ]
  },
  {
   "cell_type": "code",
   "execution_count": 2,
   "id": "6b64f251",
   "metadata": {},
   "outputs": [
    {
     "name": "stdout",
     "output_type": "stream",
     "text": [
      "['vvvvvv', '']\n",
      "['', 'v', '', 'v', '', 'v', '', 'v', '', 'v', '', 'v', '']\n"
     ]
    }
   ],
   "source": [
    "import re\n",
    "print(re.findall(\"v*\", \"vvvvvv\")) # Greedy Match Synatx\n",
    "print(re.findall(\"v*?\", \"vvvvvv\")) # Non Greddy Syntax"
   ]
  },
  {
   "cell_type": "markdown",
   "id": "e74eeb8b",
   "metadata": {},
   "source": [
    "**Q2. When exactly does greedy versus non-greedy make a difference? What if you're looking for a \n",
    "non-greedy match but the only one available is greedy?**\n",
    "\n",
    "Ans:-The greedy match will try to match as many repetitions of the quantified pattern as possible. The non-greedy match will \n",
    "\n",
    "try to match as few repetitions of the quantified pattern as possible.\n",
    "\n",
    "If only Non Greedy Match is available, we can use other filtering or pattern matching methods of regex and further identify \n",
    "\n",
    "the required pattern."
   ]
  },
  {
   "cell_type": "markdown",
   "id": "40031011",
   "metadata": {},
   "source": [
    "**Q3. In a simple match of a string, which looks only for one match and does not do any replacement, is \n",
    "the use of a nontagged group likely to make any practical difference?**\n",
    "\n",
    "Ans:-In this Case The Non Tagged Group will not make any diffrence."
   ]
  },
  {
   "cell_type": "code",
   "execution_count": 5,
   "id": "3a001588",
   "metadata": {},
   "outputs": [
    {
     "name": "stdout",
     "output_type": "stream",
     "text": [
      "mobile number found -> 856\n",
      "mobile number found -> 856\n"
     ]
    }
   ],
   "source": [
    "import re\n",
    "mobileNumRegex = re.compile(r'\\d\\d\\d')\n",
    "num = phoneNumRegex.search('My number is +91-856-546-5468.')\n",
    "print(f'mobile number found -> {num.group()}') # Non Tagged group\n",
    "print(f'mobile number found -> {num.group(0)}') # Tagged Group"
   ]
  },
  {
   "cell_type": "markdown",
   "id": "5b8c7411",
   "metadata": {},
   "source": [
    "**4. Describe a scenario in which using a nontagged category would have a significant impact on the \n",
    "program's outcomes.**\n",
    "\n",
    "Ans:- Here in the below Code Snippet . decimal is not tagged or captured. It will useful in scenarios where the separator of \n",
    "\n",
    "value in a string is of no use and we need to capture only the values."
   ]
  },
  {
   "cell_type": "code",
   "execution_count": 10,
   "id": "84ff25af",
   "metadata": {},
   "outputs": [
    {
     "data": {
      "text/plain": [
       "('456', '485')"
      ]
     },
     "execution_count": 10,
     "metadata": {},
     "output_type": "execute_result"
    }
   ],
   "source": [
    "import re\n",
    "digit='456.485'\n",
    "pattern=r'(\\d+)(?:.)(\\d+)'\n",
    "regobj=re.compile(pattern)\n",
    "mtobj=regobj.search(digit)\n",
    "mtobj.groups()"
   ]
  },
  {
   "cell_type": "markdown",
   "id": "c5a84f73",
   "metadata": {},
   "source": [
    "**Q5. Unlike a normal regex pattern, a look-ahead condition does not consume the characters it \n",
    "examines. Describe a situation in which this could make a difference in the results of your \n",
    "programme.**\n",
    "\n",
    "Ans:-While counting the number of multiple lines or mutiple sentence in a string the positive look ahead makes a difference, \n",
    "\n",
    "without which we wont get the correct count of lines or sentences in a string."
   ]
  },
  {
   "cell_type": "markdown",
   "id": "f2d6120e",
   "metadata": {},
   "source": [
    "**Q6. In standard expressions, what is the difference between positive look-ahead and negative look\u0002ahead?**\n",
    "\n",
    "Ans:-Positive lookahead: (?= «pattern») matches if pattern matches what comes after the current location in the input string. \n",
    "\n",
    "Negative lookahead: (?! «pattern») matches if pattern does not match what comes after the current location in the input \n",
    "\n",
    "string."
   ]
  },
  {
   "cell_type": "markdown",
   "id": "6c23ca7d",
   "metadata": {},
   "source": [
    "**Q7. What is the benefit of referring to groups by name rather than by number in a standard \n",
    "expression?**\n",
    "\n",
    "Ans:-Referring to groups by name rather than by number in a standard expression helps to keep the code clear and easy to understand."
   ]
  },
  {
   "cell_type": "markdown",
   "id": "69d720c2",
   "metadata": {},
   "source": [
    "**Q8. Can you identify repeated items within a target string using named groups, as in \"The cow \n",
    "jumped over the moon\"?**\n",
    "\n",
    "Ans:-"
   ]
  },
  {
   "cell_type": "code",
   "execution_count": 11,
   "id": "2b71f1bf",
   "metadata": {},
   "outputs": [
    {
     "data": {
      "text/plain": [
       "['The', 'the']"
      ]
     },
     "execution_count": 11,
     "metadata": {},
     "output_type": "execute_result"
    }
   ],
   "source": [
    "import re\n",
    "text = \"The cow jumped over the moon\"\n",
    "regobj=re.compile(r'(?P<w1>The)',re.I)\n",
    "regobj.findall(text)"
   ]
  },
  {
   "cell_type": "markdown",
   "id": "42620cef",
   "metadata": {},
   "source": [
    "**Q9. When parsing a string, what is at least one thing that the Scanner interface does for you that the \n",
    "re.findall feature does not?**\n",
    "\n",
    "Ans:-re.findall() module is used to search for all occurrences that match a given pattern. In contrast, re.search() will only \n",
    "\n",
    "return the first occurrence that matches the specified pattern. re.findall() will iterate over all the lines of the file and \n",
    "\n",
    "will return all non-overlapping matches of pattern in a single step."
   ]
  },
  {
   "cell_type": "markdown",
   "id": "24c286b7",
   "metadata": {},
   "source": [
    "**Q10. Does a scanner object have to be named scanner?**\n",
    "\n",
    "Ans:-It may have any name."
   ]
  }
 ],
 "metadata": {
  "kernelspec": {
   "display_name": "Python 3 (ipykernel)",
   "language": "python",
   "name": "python3"
  },
  "language_info": {
   "codemirror_mode": {
    "name": "ipython",
    "version": 3
   },
   "file_extension": ".py",
   "mimetype": "text/x-python",
   "name": "python",
   "nbconvert_exporter": "python",
   "pygments_lexer": "ipython3",
   "version": "3.9.7"
  }
 },
 "nbformat": 4,
 "nbformat_minor": 5
}
